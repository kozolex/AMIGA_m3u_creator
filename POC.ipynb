{
 "cells": [
  {
   "cell_type": "code",
   "execution_count": null,
   "metadata": {},
   "outputs": [],
   "source": [
    "import glob\n",
    "import os\n",
    "\n",
    "# Funkcja do tworzenia pliku .m3u z posortowanymi nazwami plików\n",
    "def create_m3u(directory):\n",
    "    # Pobierz wszystkie pliki w katalogu\n",
    "    files = [f for f in glob.glob(os.path.join(directory, '*.adf')) if os.path.isfile(f)]\n",
    "    \n",
    "    # Posortuj pliki alfabetycznie\n",
    "    files.sort()\n",
    "    \n",
    "    # Pobierz nazwę katalogu\n",
    "    dir_name = os.path.basename(directory)\n",
    "    \n",
    "    # Utwórz plik .m3u\n",
    "    with open(os.path.join(directory, f\"{dir_name}.m3u\"), 'w') as m3u_file:\n",
    "        for file in files:\n",
    "            m3u_file.write(f\"{os.path.basename(file)}\\n\")\n",
    "\n",
    "# Główna funkcja do przeszukiwania katalogów i tworzenia plików .m3u\n",
    "def main(location):\n",
    "    # Pobierz wszystkie podkatalogi w wskazanej lokalizacji\n",
    "    subdirs = [d for d in glob.glob(os.path.join(location, '*')) if os.path.isdir(d)]\n",
    "    \n",
    "    for subdir in subdirs:\n",
    "        # Sprawdź, czy w podkatalogu istnieje plik .m3u\n",
    "        if not glob.glob(os.path.join(subdir, '*.m3u')):\n",
    "            # Pobierz wszystkie pliki w podkatalogu\n",
    "            files = [f for f in glob.glob(os.path.join(subdir, '*.adf')) if os.path.isfile(f)]\n",
    "            \n",
    "            # Jeśli istnieje więcej niż jeden plik, utwórz plik .m3u\n",
    "            if len(files) > 1:\n",
    "                create_m3u(subdir)\n",
    "            #print(files)\n",
    "\n",
    "# Wskaż lokalizację do przeszukania\n",
    "location = 'E:\\\\GRY\\\\amiga\\\\amiga for PC setup\\WinUAE\\\\rom'\n",
    "\n",
    "# Uruchom główną funkcję\n",
    "main(location)"
   ]
  }
 ],
 "metadata": {
  "kernelspec": {
   "display_name": "Python 3",
   "language": "python",
   "name": "python3"
  },
  "language_info": {
   "codemirror_mode": {
    "name": "ipython",
    "version": 3
   },
   "file_extension": ".py",
   "mimetype": "text/x-python",
   "name": "python",
   "nbconvert_exporter": "python",
   "pygments_lexer": "ipython3",
   "version": "3.11.9"
  }
 },
 "nbformat": 4,
 "nbformat_minor": 2
}
